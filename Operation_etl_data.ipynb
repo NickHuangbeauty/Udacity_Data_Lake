{
 "cells": [
  {
   "cell_type": "code",
   "execution_count": 2,
   "metadata": {
    "collapsed": true
   },
   "outputs": [],
   "source": [
    "from pyspark.sql import SparkSession\n",
    "\n",
    "spark = SparkSession \\\n",
    "    .builder \\\n",
    "    .master(\"spark://spark-master:7077\") \\\n",
    "    .appName(\"Our first Python Spark SQL example\") \\\n",
    "    .getOrCreate()"
   ]
  },
  {
   "cell_type": "code",
   "execution_count": 4,
   "outputs": [
    {
     "data": {
      "text/plain": "[('spark.app.name', 'Our first Python Spark SQL example'),\n ('spark.driver.host', '192.168.0.101'),\n ('spark.app.startTime', '1642690707360'),\n ('spark.rdd.compress', 'True'),\n ('spark.driver.port', '55884'),\n ('spark.serializer.objectStreamReset', '100'),\n ('spark.app.id', 'local-1642690709370'),\n ('spark.master', 'local[*]'),\n ('spark.submit.pyFiles', ''),\n ('spark.executor.id', 'driver'),\n ('spark.submit.deployMode', 'client'),\n ('spark.sql.warehouse.dir',\n  'file:/Users/oneforall_nick/Desktop/CS/Porgramming/Udacity_Data_Engineer_nanodegrees/Core_Modeling/Udacity_Data_Lake/spark-warehouse'),\n ('spark.ui.showConsoleProgress', 'true')]"
     },
     "execution_count": 4,
     "metadata": {},
     "output_type": "execute_result"
    }
   ],
   "source": [
    "spark.sparkContext.getConf().getAll()"
   ],
   "metadata": {
    "collapsed": false,
    "pycharm": {
     "name": "#%%\n"
    }
   }
  },
  {
   "cell_type": "code",
   "execution_count": 5,
   "outputs": [
    {
     "data": {
      "text/plain": "<pyspark.sql.session.SparkSession at 0x7f87174f54f0>",
      "text/html": "\n            <div>\n                <p><b>SparkSession - in-memory</b></p>\n                \n        <div>\n            <p><b>SparkContext</b></p>\n\n            <p><a href=\"http://192.168.0.101:4040\">Spark UI</a></p>\n\n            <dl>\n              <dt>Version</dt>\n                <dd><code>v3.2.0</code></dd>\n              <dt>Master</dt>\n                <dd><code>local[*]</code></dd>\n              <dt>AppName</dt>\n                <dd><code>Our first Python Spark SQL example</code></dd>\n            </dl>\n        </div>\n        \n            </div>\n        "
     },
     "execution_count": 5,
     "metadata": {},
     "output_type": "execute_result"
    }
   ],
   "source": [
    "spark"
   ],
   "metadata": {
    "collapsed": false,
    "pycharm": {
     "name": "#%%\n"
    }
   }
  },
  {
   "cell_type": "code",
   "execution_count": 7,
   "outputs": [
    {
     "name": "stdout",
     "output_type": "stream",
     "text": [
      "total 56\r\n",
      "drwxr-xr-x@ 16 oneforall_nick  staff   512B Jan 20 23:10 \u001B[34m.\u001B[m\u001B[m\r\n",
      "-rw-r--r--   1 oneforall_nick  staff   3.6K Jan 20 23:10 Operation_etl_data.ipynb\r\n",
      "drwxr-xr-x@  6 oneforall_nick  staff   192B Jan 20 23:10 \u001B[34m..\u001B[m\u001B[m\r\n",
      "drwxr-xr-x@ 10 oneforall_nick  staff   320B Jan 20 23:04 \u001B[34m.idea\u001B[m\u001B[m\r\n",
      "drwxr-xr-x@  3 oneforall_nick  staff    96B Jan 20 22:58 \u001B[34mlib\u001B[m\u001B[m\r\n",
      "drwxr-xr-x@ 11 oneforall_nick  staff   352B Jan 20 16:30 \u001B[34m.git\u001B[m\u001B[m\r\n",
      "drwxr-xr-x@  7 oneforall_nick  staff   224B Jan 20 16:07 \u001B[34mshare\u001B[m\u001B[m\r\n",
      "-rw-r--r--   1 oneforall_nick  staff   443B Jan 20 15:31 README.md\r\n",
      "drwxr-xr-x@  3 oneforall_nick  staff    96B Jan 20 15:25 \u001B[34metc\u001B[m\u001B[m\r\n",
      "drwxr-xr-x@ 72 oneforall_nick  staff   2.3K Jan 20 15:23 \u001B[34mbin\u001B[m\u001B[m\r\n",
      "drwxr-xr-x@  5 oneforall_nick  staff   160B Jan 20 15:15 \u001B[34mdata\u001B[m\u001B[m\r\n",
      "-rw-r--r--   1 oneforall_nick  staff   7.0K Jan 20 11:41 etl.py\r\n",
      "-rw-r--r--   1 oneforall_nick  staff    94B Jan 19 14:53 .gitignore\r\n",
      "drwxr-xr-x@  5 oneforall_nick  staff   160B Jan 19 14:52 \u001B[34m__MACOSX\u001B[m\u001B[m\r\n",
      "-rw-r--r--   1 oneforall_nick  staff   344B Jan 19 14:50 pyvenv.cfg\r\n",
      "-rw-r--r--   1 oneforall_nick  staff    45B Jun 20  2019 dl.cfg\r\n"
     ]
    }
   ],
   "source": [
    "!ls -laht"
   ],
   "metadata": {
    "collapsed": false,
    "pycharm": {
     "name": "#%%\n"
    }
   }
  },
  {
   "cell_type": "code",
   "execution_count": 41,
   "outputs": [],
   "source": [
    "path = \"data/log_data/*.json\"\n",
    "user_log = spark.read.json(path)"
   ],
   "metadata": {
    "collapsed": false,
    "pycharm": {
     "name": "#%%\n"
    }
   }
  },
  {
   "cell_type": "code",
   "execution_count": 42,
   "outputs": [
    {
     "name": "stdout",
     "output_type": "stream",
     "text": [
      "root\n",
      " |-- artist: string (nullable = true)\n",
      " |-- auth: string (nullable = true)\n",
      " |-- firstName: string (nullable = true)\n",
      " |-- gender: string (nullable = true)\n",
      " |-- itemInSession: long (nullable = true)\n",
      " |-- lastName: string (nullable = true)\n",
      " |-- length: double (nullable = true)\n",
      " |-- level: string (nullable = true)\n",
      " |-- location: string (nullable = true)\n",
      " |-- method: string (nullable = true)\n",
      " |-- page: string (nullable = true)\n",
      " |-- registration: double (nullable = true)\n",
      " |-- sessionId: long (nullable = true)\n",
      " |-- song: string (nullable = true)\n",
      " |-- status: long (nullable = true)\n",
      " |-- ts: long (nullable = true)\n",
      " |-- userAgent: string (nullable = true)\n",
      " |-- userId: string (nullable = true)\n",
      "\n"
     ]
    }
   ],
   "source": [
    "# Display the user_log dataframe schema\n",
    "user_log.printSchema()"
   ],
   "metadata": {
    "collapsed": false,
    "pycharm": {
     "name": "#%%\n"
    }
   }
  },
  {
   "cell_type": "code",
   "execution_count": 43,
   "outputs": [
    {
     "name": "stderr",
     "output_type": "stream",
     "text": [
      "                                                                                \r"
     ]
    },
    {
     "data": {
      "text/plain": "DataFrame[summary: string, artist: string, auth: string, firstName: string, gender: string, itemInSession: string, lastName: string, length: string, level: string, location: string, method: string, page: string, registration: string, sessionId: string, song: string, status: string, ts: string, userAgent: string, userId: string]"
     },
     "execution_count": 43,
     "metadata": {},
     "output_type": "execute_result"
    }
   ],
   "source": [
    "user_log.describe()"
   ],
   "metadata": {
    "collapsed": false,
    "pycharm": {
     "name": "#%%\n"
    }
   }
  },
  {
   "cell_type": "code",
   "execution_count": 44,
   "outputs": [
    {
     "name": "stdout",
     "output_type": "stream",
     "text": [
      "+--------+---------+---------+------+-------------+--------+---------+-----+--------------------+------+--------+-----------------+---------+-------------+------+-------------+--------------------+------+\n",
      "|  artist|     auth|firstName|gender|itemInSession|lastName|   length|level|            location|method|    page|     registration|sessionId|         song|status|           ts|           userAgent|userId|\n",
      "+--------+---------+---------+------+-------------+--------+---------+-----+--------------------+------+--------+-----------------+---------+-------------+------+-------------+--------------------+------+\n",
      "|Harmonia|Logged In|     Ryan|     M|            0|   Smith|655.77751| free|San Jose-Sunnyval...|   PUT|NextSong|1.541016707796E12|      583|Sehr kosmisch|   200|1542241826796|\"Mozilla/5.0 (X11...|    26|\n",
      "+--------+---------+---------+------+-------------+--------+---------+-----+--------------------+------+--------+-----------------+---------+-------------+------+-------------+--------------------+------+\n",
      "only showing top 1 row\n",
      "\n"
     ]
    }
   ],
   "source": [
    "# like sql limit 1 (display column & row view )\n",
    "user_log.show(n=1)"
   ],
   "metadata": {
    "collapsed": false,
    "pycharm": {
     "name": "#%%\n"
    }
   }
  },
  {
   "cell_type": "code",
   "execution_count": 21,
   "outputs": [
    {
     "name": "stdout",
     "output_type": "stream",
     "text": [
      "<class 'list'>\n",
      "...\n"
     ]
    },
    {
     "data": {
      "text/plain": "[Row(artist=None, auth='Logged In', firstName='Walter', gender='M', itemInSession=0, lastName='Frye', length=None, level='free', location='San Francisco-Oakland-Hayward, CA', method='GET', page='Home', registration=1540919166796.0, sessionId=38, song=None, status=200, ts=1541105830796, userAgent='\"Mozilla/5.0 (Macintosh; Intel Mac OS X 10_9_4) AppleWebKit/537.36 (KHTML, like Gecko) Chrome/36.0.1985.143 Safari/537.36\"', userId='39')]"
     },
     "execution_count": 21,
     "metadata": {},
     "output_type": "execute_result"
    }
   ],
   "source": [
    "# Use Row for indicating each of data record, e.g. take(5) means show one row of one data record completely.\n",
    "print(type(user_log.take(5)))\n",
    "print(\"...\")\n",
    "user_log.take(1)"
   ],
   "metadata": {
    "collapsed": false,
    "pycharm": {
     "name": "#%%\n"
    }
   }
  },
  {
   "cell_type": "code",
   "execution_count": 28,
   "outputs": [
    {
     "name": "stdout",
     "output_type": "stream",
     "text": [
      "+--------------------+\n",
      "|              artist|\n",
      "+--------------------+\n",
      "|                null|\n",
      "|                null|\n",
      "|             Des'ree|\n",
      "|                null|\n",
      "|             Mr Oizo|\n",
      "|          Tamba Trio|\n",
      "|      The Mars Volta|\n",
      "|   Infected Mushroom|\n",
      "|Blue October / Im...|\n",
      "|           Girl Talk|\n",
      "|     Black Eyed Peas|\n",
      "|                null|\n",
      "|        Fall Out Boy|\n",
      "|              M.I.A.|\n",
      "|            Survivor|\n",
      "+--------------------+\n",
      "\n"
     ]
    }
   ],
   "source": [
    "# Key select, so it will display a table.\n",
    "# DataFrame is a Class, so it will be created object by instance\n",
    "    ## first step: call class\n",
    "#       -> user_log = spark.read.json() this is a dataframe class\n",
    "#      Second step: instance object show(), take(), select(\"\").show()\n",
    "#       -> user_log.show(), user_log.show(n=1), user_log.take(5), user_log.select(<column>).show()\n",
    "# select artist from user_log;\n",
    "# This select function return DataFrame, so it can call show() method.(Under the DataFrame)\n",
    "user_log.select(\"artist\").show()"
   ],
   "metadata": {
    "collapsed": false,
    "pycharm": {
     "name": "#%%\n"
    }
   }
  },
  {
   "cell_type": "code",
   "execution_count": 45,
   "outputs": [
    {
     "name": "stdout",
     "output_type": "stream",
     "text": [
      "+-------+------------------+\n",
      "|summary|            artist|\n",
      "+-------+------------------+\n",
      "|  count|              6820|\n",
      "|   mean|             266.5|\n",
      "| stddev|109.00229355385143|\n",
      "|    min|               !!!|\n",
      "|    max|   ÃÂtienne Daho|\n",
      "+-------+------------------+\n",
      "\n"
     ]
    }
   ],
   "source": [
    "# Aggregation the data information that are including count, mean, etc.\n",
    "user_log.describe(['artist']).show()"
   ],
   "metadata": {
    "collapsed": false,
    "pycharm": {
     "name": "#%%\n"
    }
   }
  },
  {
   "cell_type": "code",
   "execution_count": 46,
   "outputs": [
    {
     "data": {
      "text/plain": "8056"
     },
     "execution_count": 46,
     "metadata": {},
     "output_type": "execute_result"
    }
   ],
   "source": [
    "# Count all data\n",
    "user_log.count()"
   ],
   "metadata": {
    "collapsed": false,
    "pycharm": {
     "name": "#%%\n"
    }
   }
  },
  {
   "cell_type": "code",
   "execution_count": 54,
   "outputs": [
    {
     "name": "stdout",
     "output_type": "stream",
     "text": [
      "+------+----------+---------+------+-------------+---------+------+-----+--------------------+------+---------+-----------------+---------+----+------+-------------+--------------------+------+\n",
      "|artist|      auth|firstName|gender|itemInSession| lastName|length|level|            location|method|     page|     registration|sessionId|song|status|           ts|           userAgent|userId|\n",
      "+------+----------+---------+------+-------------+---------+------+-----+--------------------+------+---------+-----------------+---------+----+------+-------------+--------------------+------+\n",
      "|  null| Logged In|    Wyatt|     M|            0|    Scott|  null| free|Eureka-Arcata-For...|   GET|     Home|1.540872073796E12|      563|null|   200|1542247071796|Mozilla/5.0 (Wind...|     9|\n",
      "|  null| Logged In|   Austin|     M|            0|  Rosales|  null| free|New York-Newark-J...|   GET|     Home|1.541059521796E12|      521|null|   200|1542252577796|Mozilla/5.0 (Wind...|    12|\n",
      "|  null| Logged In|   Samuel|     M|            1| Gonzalez|  null| free|Houston-The Woodl...|   GET|    About|1.540492941796E12|      597|null|   200|1542253460796|\"Mozilla/5.0 (Mac...|    61|\n",
      "|  null|Logged Out|     null|  null|            0|     null|  null| paid|                null|   PUT|    Login|             null|      602|null|   307|1542260074796|                null|      |\n",
      "|  null| Logged In|    Tegan|     F|            1|   Levine|  null| paid|Portland-South Po...|   GET|     Home|1.540794356796E12|      602|null|   200|1542260277796|\"Mozilla/5.0 (Mac...|    80|\n",
      "|  null| Logged In|    Tegan|     F|            6|   Levine|  null| paid|Portland-South Po...|   GET|     Home|1.540794356796E12|      602|null|   200|1542261713796|\"Mozilla/5.0 (Mac...|    80|\n",
      "|  null| Logged In|    Chloe|     F|            0|   Cuevas|  null| paid|San Francisco-Oak...|   GET|     Home|1.540940782796E12|      606|null|   200|1542265424796|Mozilla/5.0 (Wind...|    49|\n",
      "|  null| Logged In| Mohammad|     M|            0|Rodriguez|  null| free|Sacramento--Rosev...|   GET|     Home|1.540511766796E12|      591|null|   200|1542267925796|\"Mozilla/5.0 (Mac...|    88|\n",
      "|  null| Logged In| Mohammad|     M|            1|Rodriguez|  null| free|Sacramento--Rosev...|   GET|  Upgrade|1.540511766796E12|      591|null|   200|1542268164796|\"Mozilla/5.0 (Mac...|    88|\n",
      "|  null| Logged In| Mohammad|     M|            2|Rodriguez|  null| free|Sacramento--Rosev...|   GET|     Home|1.540511766796E12|      591|null|   200|1542268187796|\"Mozilla/5.0 (Mac...|    88|\n",
      "|  null| Logged In|    Avery|     F|            1|  Watkins|  null| paid|San Jose-Sunnyval...|   GET|     Home|1.540871783796E12|      324|null|   200|1542275430796|Mozilla/5.0 (Wind...|    30|\n",
      "|  null| Logged In|    Tegan|     F|            1|   Levine|  null| paid|Portland-South Po...|   GET|Downgrade|1.540794356796E12|      611|null|   200|1542275437796|\"Mozilla/5.0 (Mac...|    80|\n",
      "|  null| Logged In|    Tegan|     F|            2|   Levine|  null| paid|Portland-South Po...|   GET|Downgrade|1.540794356796E12|      611|null|   200|1542276099796|\"Mozilla/5.0 (Mac...|    80|\n",
      "|  null| Logged In|    Tegan|     F|           11|   Levine|  null| paid|Portland-South Po...|   GET|Downgrade|1.540794356796E12|      611|null|   200|1542278172796|\"Mozilla/5.0 (Mac...|    80|\n",
      "|  null| Logged In|    Rylan|     M|            3|   George|  null| paid|Birmingham-Hoover...|   GET|Downgrade|1.541020249796E12|      575|null|   200|1542279284796|\"Mozilla/5.0 (Mac...|    16|\n",
      "|  null| Logged In|    Rylan|     M|            9|   George|  null| paid|Birmingham-Hoover...|   GET|     Help|1.541020249796E12|      575|null|   200|1542280260796|\"Mozilla/5.0 (Mac...|    16|\n",
      "|  null| Logged In|    Kaleb|     M|            0|     Cook|  null| free|       Yuba City, CA|   GET|     Home|1.540679673796E12|      560|null|   200|1542281730796|Mozilla/5.0 (Wind...|    54|\n",
      "|  null| Logged In|    Chloe|     F|            0|   Cuevas|  null| paid|San Francisco-Oak...|   GET|     Home|1.540940782796E12|      615|null|   200|1542285072796|Mozilla/5.0 (Wind...|    49|\n",
      "|  null| Logged In|    Chloe|     F|            1|   Cuevas|  null| paid|San Francisco-Oak...|   PUT|   Logout|1.540940782796E12|      615|null|   307|1542285073796|Mozilla/5.0 (Wind...|    49|\n",
      "|  null| Logged In|   Aleena|     F|            0|    Kirby|  null| paid|Waterloo-Cedar Fa...|   GET|     Home|1.541022995796E12|      536|null|   200|1542285134796|Mozilla/5.0 (Maci...|    44|\n",
      "+------+----------+---------+------+-------------+---------+------+-----+--------------------+------+---------+-----------------+---------+----+------+-------------+--------------------+------+\n",
      "only showing top 20 rows\n",
      "\n"
     ]
    }
   ],
   "source": [
    "# Display the column null or not!!\n",
    "# user_log.filter(\"artist is NULL\").show()\n",
    "# user_log.filter(user_log.artist.isNull()).show()\n",
    "from pyspark.sql.functions import col\n",
    "user_log.filter(col(\"artist\").isNull()).show()"
   ],
   "metadata": {
    "collapsed": false,
    "pycharm": {
     "name": "#%%\n"
    }
   }
  },
  {
   "cell_type": "code",
   "execution_count": 57,
   "outputs": [
    {
     "name": "stderr",
     "output_type": "stream",
     "text": [
      "[Stage 70:>                                                         (0 + 0) / 8]\r"
     ]
    },
    {
     "name": "stdout",
     "output_type": "stream",
     "text": [
      "+----------------+\n",
      "|            page|\n",
      "+----------------+\n",
      "|           About|\n",
      "|       Downgrade|\n",
      "|           Error|\n",
      "|            Help|\n",
      "|            Home|\n",
      "|           Login|\n",
      "|          Logout|\n",
      "|        NextSong|\n",
      "|   Save Settings|\n",
      "|        Settings|\n",
      "|Submit Downgrade|\n",
      "|  Submit Upgrade|\n",
      "|         Upgrade|\n",
      "+----------------+\n",
      "\n"
     ]
    },
    {
     "name": "stderr",
     "output_type": "stream",
     "text": [
      "                                                                                \r"
     ]
    }
   ],
   "source": [
    "user_log.select(\"page\").dropDuplicates().sort(\"page\").show()"
   ],
   "metadata": {
    "collapsed": false,
    "pycharm": {
     "name": "#%%\n"
    }
   }
  },
  {
   "cell_type": "code",
   "execution_count": 60,
   "outputs": [
    {
     "data": {
      "text/plain": "[]"
     },
     "execution_count": 60,
     "metadata": {},
     "output_type": "execute_result"
    }
   ],
   "source": [
    "user_log.select([\"userId\", \"firstname\", \"page\", \"song\"]).where(user_log.userId == \"1046\").collect()"
   ],
   "metadata": {
    "collapsed": false,
    "pycharm": {
     "name": "#%%\n"
    }
   }
  },
  {
   "cell_type": "markdown",
   "source": [
    "# Calculating Statistics by Hour"
   ],
   "metadata": {
    "collapsed": false,
    "pycharm": {
     "name": "#%% md\n"
    }
   }
  },
  {
   "cell_type": "code",
   "execution_count": 61,
   "outputs": [
    {
     "name": "stderr",
     "output_type": "stream",
     "text": [
      "                                                                                \r"
     ]
    },
    {
     "data": {
      "text/plain": "Row(artist='Harmonia', auth='Logged In', firstName='Ryan', gender='M', itemInSession=0, lastName='Smith', length=655.77751, level='free', location='San Jose-Sunnyvale-Santa Clara, CA', method='PUT', page='NextSong', registration=1541016707796.0, sessionId=583, song='Sehr kosmisch', status=200, ts=1542241826796, userAgent='\"Mozilla/5.0 (X11; Linux x86_64) AppleWebKit/537.36 (KHTML, like Gecko) Ubuntu Chromium/36.0.1985.125 Chrome/36.0.1985.125 Safari/537.36\"', userId='26', hour='8')"
     },
     "execution_count": 61,
     "metadata": {},
     "output_type": "execute_result"
    }
   ],
   "source": [
    "# Use udf of pyspark for creating a get_hour function and adding on the user_log dataframe\n",
    "from pyspark.sql.functions import udf\n",
    "from datetime import datetime\n",
    "get_hour = udf(lambda x: datetime.fromtimestamp(int(x)/1000.0).hour)\n",
    "\n",
    "# Add the hour new colum on the user_log dataframe\n",
    "user_log = user_log.withColumn('hour', get_hour(user_log.ts))\n",
    "\n",
    "# display one data of user_log\n",
    "user_log.head()"
   ],
   "metadata": {
    "collapsed": false,
    "pycharm": {
     "name": "#%%\n"
    }
   }
  },
  {
   "cell_type": "code",
   "execution_count": 71,
   "outputs": [],
   "source": [
    "# Show How log does users played next page to listen music?\n",
    "# Mwthod1\n",
    "# songs_hours = user_log.filter(\"page == 'NextPage'\").groupBy(user_log.hour).count().orderBy(user_log.hour.cast(\"float\"))\n",
    "\n",
    "# Mwthod2\n",
    "songs_in_hours = user_log.filter(user_log.page == 'NextPage').groupBy(user_log.hour).count().orderBy(user_log.hour.cast(\"float\"))"
   ],
   "metadata": {
    "collapsed": false,
    "pycharm": {
     "name": "#%%\n"
    }
   }
  },
  {
   "cell_type": "code",
   "execution_count": 63,
   "outputs": [
    {
     "name": "stdout",
     "output_type": "stream",
     "text": [
      "+----+-----+\n",
      "|hour|count|\n",
      "+----+-----+\n",
      "+----+-----+\n",
      "\n"
     ]
    }
   ],
   "source": [
    "songs_in_hours.show()"
   ],
   "metadata": {
    "collapsed": false,
    "pycharm": {
     "name": "#%%\n"
    }
   }
  },
  {
   "cell_type": "code",
   "execution_count": null,
   "outputs": [],
   "source": [],
   "metadata": {
    "collapsed": false,
    "pycharm": {
     "name": "#%%\n"
    }
   }
  }
 ],
 "metadata": {
  "kernelspec": {
   "display_name": "Python 3",
   "language": "python",
   "name": "python3"
  },
  "language_info": {
   "codemirror_mode": {
    "name": "ipython",
    "version": 2
   },
   "file_extension": ".py",
   "mimetype": "text/x-python",
   "name": "python",
   "nbconvert_exporter": "python",
   "pygments_lexer": "ipython2",
   "version": "2.7.6"
  }
 },
 "nbformat": 4,
 "nbformat_minor": 0
}